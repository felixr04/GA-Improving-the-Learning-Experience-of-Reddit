{
 "cells": [
  {
   "cell_type": "markdown",
   "id": "a28d4b8b-6b94-4452-b74c-5862b89b1b6e",
   "metadata": {},
   "source": [
    "# Modeling"
   ]
  },
  {
   "cell_type": "code",
   "execution_count": 1,
   "id": "0592a227-c70c-4795-a098-ec18a7f3eaa0",
   "metadata": {},
   "outputs": [],
   "source": [
    "# Imports\n",
    "import pandas as pd\n",
    "import re\n",
    "import nltk\n",
    "from nltk.corpus import stopwords\n",
    "from nltk.tokenize import word_tokenize\n",
    "from nltk.stem import WordNetLemmatizer\n",
    "from nltk.corpus import wordnet\n",
    "from sklearn.feature_extraction.text import TfidfVectorizer\n",
    "import matplotlib.pyplot as plt\n",
    "import seaborn as sns\n",
    "import numpy as np\n",
    "from collections import Counter"
   ]
  },
  {
   "cell_type": "code",
   "execution_count": 2,
   "id": "85934f50-7637-4cba-a360-f7db1ef91303",
   "metadata": {},
   "outputs": [],
   "source": [
    "# Loading in the cleaned and normalized data\n",
    "df = pd.read_csv('data/reddit_post_cleaned_normalized.csv')"
   ]
  },
  {
   "cell_type": "code",
   "execution_count": 3,
   "id": "34df560d-805f-4388-8782-24579c630aa3",
   "metadata": {},
   "outputs": [],
   "source": [
    "df['body'] = df['body'].fillna('')"
   ]
  },
  {
   "cell_type": "code",
   "execution_count": 4,
   "id": "64c3c72b-f657-44b3-a6b9-8248981f7ee4",
   "metadata": {},
   "outputs": [
    {
     "name": "stdout",
     "output_type": "stream",
     "text": [
      "TF-IDF Matrix Shape: (2692, 1000)\n"
     ]
    }
   ],
   "source": [
    "# Initializing TF-IDF Vectorizer\n",
    "tfidf_vectorizer = TfidfVectorizer(max_features=1000)\n",
    "\n",
    "# Combining title and body text\n",
    "df['combined_text'] = df['title'] + ' ' + df['body']\n",
    "\n",
    "# Applying TF-IDF transformation\n",
    "X = tfidf_vectorizer.fit_transform(df['combined_text'])\n",
    "\n",
    "# Checking shape of the transformed matrix\n",
    "print(f\"TF-IDF Matrix Shape: {X.shape}\")"
   ]
  },
  {
   "cell_type": "code",
   "execution_count": 5,
   "id": "f65c3bbb-4da4-4f6f-ba91-f660b3ce9060",
   "metadata": {},
   "outputs": [
    {
     "name": "stdout",
     "output_type": "stream",
     "text": [
      "Training set size: (2153, 1000)\n",
      "Test set size: (539, 1000)\n"
     ]
    }
   ],
   "source": [
    "from sklearn.model_selection import train_test_split\n",
    "\n",
    "# Defining the target variable, encoding subreddits\n",
    "y = df['subreddit'].map({'askscience': 0, 'explainlikeimfive': 1})\n",
    "\n",
    "# Splitting the data into train and test sets (80% train, 20% test)\n",
    "X_train, X_test, y_train, y_test = train_test_split(X, y, test_size=0.2, random_state=42)\n",
    "\n",
    "# Checking the shape of the splits\n",
    "print(f\"Training set size: {X_train.shape}\")\n",
    "print(f\"Test set size: {X_test.shape}\")"
   ]
  },
  {
   "cell_type": "code",
   "execution_count": 6,
   "id": "3adce8ae-6999-44bd-90e8-34c2c998e247",
   "metadata": {},
   "outputs": [
    {
     "name": "stdout",
     "output_type": "stream",
     "text": [
      "Logistic Regression Performance:\n",
      "Accuracy: 0.6901669758812616\n",
      "              precision    recall  f1-score   support\n",
      "\n",
      "           0       0.72      0.66      0.69       279\n",
      "           1       0.66      0.73      0.69       260\n",
      "\n",
      "    accuracy                           0.69       539\n",
      "   macro avg       0.69      0.69      0.69       539\n",
      "weighted avg       0.69      0.69      0.69       539\n",
      "\n"
     ]
    }
   ],
   "source": [
    "from sklearn.linear_model import LogisticRegression\n",
    "from sklearn.metrics import classification_report, accuracy_score\n",
    "\n",
    "# Initializing the Logistic Regression model\n",
    "lr_model = LogisticRegression(max_iter=1000, random_state=42)\n",
    "\n",
    "# Training the model\n",
    "lr_model.fit(X_train, y_train)\n",
    "\n",
    "# Making predictions on the test set\n",
    "y_pred_lr = lr_model.predict(X_test)\n",
    "\n",
    "# Evaluating the model\n",
    "print(\"Logistic Regression Performance:\")\n",
    "print(f\"Accuracy: {accuracy_score(y_test, y_pred_lr)}\")\n",
    "print(classification_report(y_test, y_pred_lr))"
   ]
  },
  {
   "cell_type": "code",
   "execution_count": 7,
   "id": "0a594529-7e9f-49e5-847a-100d6037abcd",
   "metadata": {},
   "outputs": [
    {
     "name": "stdout",
     "output_type": "stream",
     "text": [
      "Random Forest Performance:\n",
      "Accuracy: 0.6883116883116883\n",
      "              precision    recall  f1-score   support\n",
      "\n",
      "           0       0.71      0.67      0.69       279\n",
      "           1       0.67      0.71      0.69       260\n",
      "\n",
      "    accuracy                           0.69       539\n",
      "   macro avg       0.69      0.69      0.69       539\n",
      "weighted avg       0.69      0.69      0.69       539\n",
      "\n"
     ]
    }
   ],
   "source": [
    "from sklearn.ensemble import RandomForestClassifier\n",
    "\n",
    "# Initializing the Random Forest model\n",
    "rf_model = RandomForestClassifier(n_estimators=100, random_state=42)\n",
    "\n",
    "# Training the model\n",
    "rf_model.fit(X_train, y_train)\n",
    "\n",
    "# Making predictions on the test set\n",
    "y_pred_rf = rf_model.predict(X_test)\n",
    "\n",
    "# Evaluating the model\n",
    "print(\"Random Forest Performance:\")\n",
    "print(f\"Accuracy: {accuracy_score(y_test, y_pred_rf)}\")\n",
    "print(classification_report(y_test, y_pred_rf))"
   ]
  },
  {
   "cell_type": "code",
   "execution_count": 8,
   "id": "b24c81d8-339f-4b38-9b07-323f41f6914b",
   "metadata": {},
   "outputs": [
    {
     "name": "stdout",
     "output_type": "stream",
     "text": [
      "Best Parameters: {'C': 1, 'solver': 'liblinear'}\n",
      "Best Score: 0.6939167970646954\n",
      "Tuned Logistic Regression Performance:\n",
      "Accuracy: 0.6901669758812616\n",
      "              precision    recall  f1-score   support\n",
      "\n",
      "           0       0.72      0.65      0.69       279\n",
      "           1       0.66      0.73      0.69       260\n",
      "\n",
      "    accuracy                           0.69       539\n",
      "   macro avg       0.69      0.69      0.69       539\n",
      "weighted avg       0.69      0.69      0.69       539\n",
      "\n"
     ]
    }
   ],
   "source": [
    "from sklearn.model_selection import GridSearchCV\n",
    "\n",
    "# Defining hyperparameter grid for Logistic Regression\n",
    "param_grid = {'C': [0.01, 0.1, 1, 10, 100], 'solver': ['liblinear']}\n",
    "\n",
    "# Initializing GridSearchCV\n",
    "grid_search = GridSearchCV(LogisticRegression(max_iter=1000), param_grid, cv=5, scoring='accuracy')\n",
    "\n",
    "# Training with GridSearchCV\n",
    "grid_search.fit(X_train, y_train)\n",
    "\n",
    "# Best parameters and best score\n",
    "print(f\"Best Parameters: {grid_search.best_params_}\")\n",
    "print(f\"Best Score: {grid_search.best_score_}\")\n",
    "\n",
    "# Making predictions with the best model\n",
    "best_lr_model = grid_search.best_estimator_\n",
    "y_pred_best_lr = best_lr_model.predict(X_test)\n",
    "\n",
    "# Evaluating the tuned model\n",
    "print(\"Tuned Logistic Regression Performance:\")\n",
    "print(f\"Accuracy: {accuracy_score(y_test, y_pred_best_lr)}\")\n",
    "print(classification_report(y_test, y_pred_best_lr))"
   ]
  },
  {
   "cell_type": "code",
   "execution_count": 19,
   "id": "7b26066c-6fc6-46ad-91d6-7757a0599ab4",
   "metadata": {},
   "outputs": [
    {
     "name": "stdout",
     "output_type": "stream",
     "text": [
      "SVM Performance:\n",
      "Accuracy: 0.6679035250463822\n",
      "              precision    recall  f1-score   support\n",
      "\n",
      "           0       0.70      0.63      0.66       279\n",
      "           1       0.64      0.71      0.67       260\n",
      "\n",
      "    accuracy                           0.67       539\n",
      "   macro avg       0.67      0.67      0.67       539\n",
      "weighted avg       0.67      0.67      0.67       539\n",
      "\n"
     ]
    }
   ],
   "source": [
    "from sklearn.svm import SVC\n",
    "from sklearn.metrics import accuracy_score, classification_report\n",
    "\n",
    "# Initializing the SVM model\n",
    "svm_model = SVC(kernel='linear', C=1, gamma='scale', random_state=42)\n",
    "\n",
    "# Training the model\n",
    "svm_model.fit(X_train, y_train)\n",
    "\n",
    "# Making predictions on the test set\n",
    "y_pred_svm = svm_model.predict(X_test)\n",
    "\n",
    "# Evaluating the model\n",
    "print(\"SVM Performance:\")\n",
    "print(f\"Accuracy: {accuracy_score(y_test, y_pred_svm)}\")\n",
    "print(classification_report(y_test, y_pred_svm))"
   ]
  },
  {
   "cell_type": "code",
   "execution_count": null,
   "id": "0136ad0e-b619-43ef-bbb5-e293e7bf7cbd",
   "metadata": {},
   "outputs": [],
   "source": [
    "# Initializing the lemmatizer and stopwords\n",
    "lemmatizer = WordNetLemmatizer()\n",
    "stop_words = set(stopwords.words('english'))\n",
    "\n",
    "def preprocess_text(text):\n",
    "    text = text.lower()\n",
    "    text = re.sub(r'[^a-zA-Z0-9\\s]', '', text)\n",
    "    tokens = word_tokenize(text)\n",
    "    tokens = [lemmatizer.lemmatize(word) for word in tokens if word not in stop_words]\n",
    "    return ' '.join(tokens)"
   ]
  },
  {
   "cell_type": "code",
   "execution_count": null,
   "id": "5e858eae-d442-4ced-b704-b6079bd6191b",
   "metadata": {},
   "outputs": [],
   "source": [
    "def predict_subreddit(input_text, model, vectorizer):\n",
    "    input_text_cleaned = preprocess_text(input_text)\n",
    "    \n",
    "    # Applying TF-IDF transformation\n",
    "    input_vectorized = vectorizer.transform([input_text_cleaned])\n",
    "    \n",
    "    # Predicting the subreddit\n",
    "    prediction = model.predict(input_vectorized)\n",
    "    \n",
    "    # Mapping the prediction back to subreddit name\n",
    "    subreddit_pred = 'askscience' if prediction == 0 else 'explainlikeimfive'\n",
    "    \n",
    "    return subreddit_pred\n",
    "# Input question\n",
    "input_question = \"how does economics work\"\n",
    "predicted_subreddit = predict_subreddit(input_question, best_lr_model, tfidf_vectorizer)\n",
    "print(f\"The question belongs to subreddit: {predicted_subreddit}\")"
   ]
  }
 ],
 "metadata": {
  "kernelspec": {
   "display_name": "Python [conda env:base] *",
   "language": "python",
   "name": "conda-base-py"
  },
  "language_info": {
   "codemirror_mode": {
    "name": "ipython",
    "version": 3
   },
   "file_extension": ".py",
   "mimetype": "text/x-python",
   "name": "python",
   "nbconvert_exporter": "python",
   "pygments_lexer": "ipython3",
   "version": "3.12.7"
  }
 },
 "nbformat": 4,
 "nbformat_minor": 5
}

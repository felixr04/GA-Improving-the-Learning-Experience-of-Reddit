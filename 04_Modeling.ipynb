{
 "cells": [
  {
   "cell_type": "markdown",
   "id": "a28d4b8b-6b94-4452-b74c-5862b89b1b6e",
   "metadata": {},
   "source": [
    "# Modeling"
   ]
  },
  {
   "cell_type": "code",
   "execution_count": 2,
   "id": "0592a227-c70c-4795-a098-ec18a7f3eaa0",
   "metadata": {},
   "outputs": [],
   "source": [
    "# Imports\n",
    "import pandas as pd\n",
    "import re\n",
    "import nltk\n",
    "from nltk.corpus import stopwords\n",
    "from nltk.tokenize import word_tokenize\n",
    "from nltk.stem import WordNetLemmatizer\n",
    "from nltk.corpus import wordnet\n",
    "from sklearn.feature_extraction.text import TfidfVectorizer\n",
    "import matplotlib.pyplot as plt\n",
    "import seaborn as sns\n",
    "import numpy as np\n",
    "from collections import Counter"
   ]
  },
  {
   "cell_type": "code",
   "execution_count": 3,
   "id": "85934f50-7637-4cba-a360-f7db1ef91303",
   "metadata": {},
   "outputs": [],
   "source": [
    "# Loading in the cleaned and normalized data\n",
    "df = pd.read_csv('data/reddit_post_cleaned_normalized.csv')"
   ]
  },
  {
   "cell_type": "code",
   "execution_count": 4,
   "id": "37e9d004-0f69-4050-a085-908fdef290d4",
   "metadata": {},
   "outputs": [],
   "source": [
    "df['body'] = df['body'].fillna('')"
   ]
  },
  {
   "cell_type": "code",
   "execution_count": 5,
   "id": "64c3c72b-f657-44b3-a6b9-8248981f7ee4",
   "metadata": {},
   "outputs": [
    {
     "name": "stdout",
     "output_type": "stream",
     "text": [
      "TF-IDF Matrix Shape: (2692, 73457)\n"
     ]
    }
   ],
   "source": [
    "# Initializing TF-IDF Vectorizer\n",
    "tfidf_vectorizer = TfidfVectorizer(ngram_range=(1,2))\n",
    "\n",
    "# Combining title and body text\n",
    "df['combined_text'] = df['title'] + ' ' + df['body']\n",
    "\n",
    "# Applying TF-IDF transformation\n",
    "X = tfidf_vectorizer.fit_transform(df['combined_text'])\n",
    "\n",
    "# Checking shape of the transformed matrix\n",
    "print(f\"TF-IDF Matrix Shape: {X.shape}\")"
   ]
  },
  {
   "cell_type": "code",
   "execution_count": 6,
   "id": "f65c3bbb-4da4-4f6f-ba91-f660b3ce9060",
   "metadata": {},
   "outputs": [
    {
     "name": "stdout",
     "output_type": "stream",
     "text": [
      "Training set size: (2153, 73457)\n",
      "Test set size: (539, 73457)\n"
     ]
    }
   ],
   "source": [
    "from sklearn.model_selection import train_test_split\n",
    "\n",
    "# Defining the target variable, encoding subreddits\n",
    "y = df['subreddit'].map({'askscience': 0, 'explainlikeimfive': 1})\n",
    "\n",
    "# Splitting the data into train and test sets (80% train, 20% test)\n",
    "X_train, X_test, y_train, y_test = train_test_split(X, y, test_size=0.2, random_state=42)\n",
    "\n",
    "# Checking the shape of the splits\n",
    "print(f\"Training set size: {X_train.shape}\")\n",
    "print(f\"Test set size: {X_test.shape}\")"
   ]
  },
  {
   "cell_type": "markdown",
   "id": "502af65e-8678-41e8-aa03-5b4fdde5fcc3",
   "metadata": {},
   "source": [
    "## Logistic Regression Model"
   ]
  },
  {
   "cell_type": "code",
   "execution_count": 8,
   "id": "3adce8ae-6999-44bd-90e8-34c2c998e247",
   "metadata": {},
   "outputs": [
    {
     "name": "stdout",
     "output_type": "stream",
     "text": [
      "Logistic Regression Performance:\n",
      "Accuracy: 0.7179962894248608\n",
      "              precision    recall  f1-score   support\n",
      "\n",
      "           0       0.74      0.71      0.72       279\n",
      "           1       0.70      0.73      0.71       260\n",
      "\n",
      "    accuracy                           0.72       539\n",
      "   macro avg       0.72      0.72      0.72       539\n",
      "weighted avg       0.72      0.72      0.72       539\n",
      "\n"
     ]
    }
   ],
   "source": [
    "from sklearn.linear_model import LogisticRegression\n",
    "from sklearn.metrics import classification_report, accuracy_score\n",
    "\n",
    "# Initializing the Logistic Regression model\n",
    "lr_model = LogisticRegression(max_iter=1000, random_state=42)\n",
    "\n",
    "# Training the model\n",
    "lr_model.fit(X_train, y_train)\n",
    "\n",
    "# Making predictions on the test set\n",
    "y_pred_lr = lr_model.predict(X_test)\n",
    "\n",
    "# Evaluating the model\n",
    "print(\"Logistic Regression Performance:\")\n",
    "print(f\"Accuracy: {accuracy_score(y_test, y_pred_lr)}\")\n",
    "print(classification_report(y_test, y_pred_lr))"
   ]
  },
  {
   "cell_type": "markdown",
   "id": "ce6f5eca-59a6-4ebd-b2d3-38f28fa70985",
   "metadata": {},
   "source": [
    "## Random Forest Model"
   ]
  },
  {
   "cell_type": "code",
   "execution_count": 10,
   "id": "0a594529-7e9f-49e5-847a-100d6037abcd",
   "metadata": {},
   "outputs": [
    {
     "name": "stdout",
     "output_type": "stream",
     "text": [
      "Random Forest Performance:\n",
      "Accuracy: 0.6901669758812616\n",
      "              precision    recall  f1-score   support\n",
      "\n",
      "           0       0.81      0.53      0.64       279\n",
      "           1       0.63      0.87      0.73       260\n",
      "\n",
      "    accuracy                           0.69       539\n",
      "   macro avg       0.72      0.70      0.68       539\n",
      "weighted avg       0.72      0.69      0.68       539\n",
      "\n"
     ]
    }
   ],
   "source": [
    "from sklearn.ensemble import RandomForestClassifier\n",
    "\n",
    "# Initializing the Random Forest model\n",
    "rf_model = RandomForestClassifier(n_estimators=100, random_state=42)\n",
    "\n",
    "# Training the model\n",
    "rf_model.fit(X_train, y_train)\n",
    "\n",
    "# Making predictions on the test set\n",
    "y_pred_rf = rf_model.predict(X_test)\n",
    "\n",
    "# Evaluating the model\n",
    "print(\"Random Forest Performance:\")\n",
    "print(f\"Accuracy: {accuracy_score(y_test, y_pred_rf)}\")\n",
    "print(classification_report(y_test, y_pred_rf))"
   ]
  },
  {
   "cell_type": "markdown",
   "id": "bc1d5220-4021-432c-bc7f-1a447bd616b4",
   "metadata": {},
   "source": [
    "The model correctly identifies 87% of actual ELI5 posts. This aligns well with your goal of ensuring that AskScience users get flagged if their post is actually ELI5. Some AskScience posts are mistakenly classified as ELI5 and that makes sense given that there might be new users who are unaware that there is an ELIF subreddit and instead posting in askscience.\n"
   ]
  },
  {
   "cell_type": "markdown",
   "id": "d017bce8-272d-4c3d-bd41-b6cc25ac7be0",
   "metadata": {},
   "source": [
    "Our Random Forest (RF) model is a better choice than Logistic Regression (LR) because it achieves significantly higher recall for r/ExplainLikeImFive (ELI5) posts, which is our priority. While LR has a slightly higher overall accuracy (0.72 vs. 0.69), RF achieves a recall of 0.87 for ELI5, compared to only 0.73 for LR, meaning it correctly identifies more ELI5 posts. Since we want to ensure that users posting ELI5-style questions are correctly recommended to r/AskScience when necessary, recall is the more important metric. Additionally, RF is better suited for text classification because it handles non-linear relationships and complex feature interactions, unlike LR, which assumes a linear decision boundary. RF's ability to identify important features dynamically also makes it more effective at dealing with the high dimensional and sparse nature of TF-IDF vectorized text. lastly, RF is more robust and less prone to overfitting than LR. Given our goal of accurately distinguishing between scientific and simplified explanations, Random Forest is the superior model for this classification task."
   ]
  },
  {
   "cell_type": "markdown",
   "id": "23ca36ca-a6ce-4360-b295-2823c836469f",
   "metadata": {},
   "source": [
    "## Feature Importance"
   ]
  },
  {
   "cell_type": "code",
   "execution_count": 12,
   "id": "d4f0adf0-d8ab-4fb3-9aa3-862e14410c0d",
   "metadata": {},
   "outputs": [
    {
     "name": "stdout",
     "output_type": "stream",
     "text": [
      "           Word  Importance\n",
      "72343     would    0.006721\n",
      "19709     earth    0.006362\n",
      "49397  possible    0.004564\n",
      "60341    specie    0.003856\n",
      "68977   vaccine    0.003750\n",
      "69541     virus    0.003331\n",
      "27394       get    0.003288\n",
      "14603     could    0.003216\n",
      "15022   covid19    0.003137\n",
      "58448     since    0.002915\n",
      "72008      work    0.002863\n",
      "22472      ever    0.002665\n",
      "24575      feel    0.002611\n",
      "46015  organism    0.002583\n",
      "22057       etc    0.002544\n",
      "37293      like    0.002538\n",
      "48552    planet    0.002225\n",
      "37127     light    0.002106\n",
      "45401       one    0.002063\n",
      "31702     human    0.002060\n"
     ]
    }
   ],
   "source": [
    "# Getting feature importances from the trained Random Forest model\n",
    "feature_importances = rf_model.feature_importances_\n",
    "feature_names = tfidf_vectorizer.get_feature_names_out()\n",
    "importance_df = pd.DataFrame({'Word': feature_names, 'Importance': feature_importances})\n",
    "importance_df = importance_df.sort_values(by='Importance', ascending=False)\n",
    "print(importance_df.head(20))"
   ]
  },
  {
   "cell_type": "code",
   "execution_count": 13,
   "id": "b164be12-b4ec-4a09-9986-e292f0d96461",
   "metadata": {},
   "outputs": [
    {
     "data": {
      "image/png": "[encoded data removed]",
      "text/plain": [
       "<Figure size 1200x600 with 1 Axes>"
      ]
     },
     "metadata": {},
     "output_type": "display_data"
    }
   ],
   "source": [
    "# Plotting the above\n",
    "plt.figure(figsize=(12,6))\n",
    "plt.barh(importance_df['Word'][:20], importance_df['Importance'][:20], color='royalblue')\n",
    "plt.gca().invert_yaxis()\n",
    "plt.xlabel(\"Feature Importance Score\")\n",
    "plt.ylabel(\"Words\")\n",
    "plt.title(\"Top 20 Most Important Words in Subreddit Classification\")\n",
    "plt.savefig('images/most_important_by_classifier.png', dpi=300)\n",
    "plt.show()"
   ]
  },
  {
   "cell_type": "markdown",
   "id": "53821b9c-3293-406b-9148-fce37eb44540",
   "metadata": {},
   "source": [
    "## Hyperparameter Tuning"
   ]
  },
  {
   "cell_type": "code",
   "execution_count": 14,
   "id": "80191a0b-c6b8-42ff-a097-3d525f9a8ae2",
   "metadata": {},
   "outputs": [
    {
     "name": "stdout",
     "output_type": "stream",
     "text": [
      "Fitting 5 folds for each of 12 candidates, totalling 60 fits\n",
      "Best Parameters: {'max_depth': 50, 'min_samples_split': 200, 'n_estimators': 200}\n",
      "Best Recall Score: 0.6953132250580046\n",
      "Tuned Random Forest Performance:\n",
      "              precision    recall  f1-score   support\n",
      "\n",
      "           0       0.79      0.59      0.68       279\n",
      "           1       0.66      0.83      0.73       260\n",
      "\n",
      "    accuracy                           0.71       539\n",
      "   macro avg       0.72      0.71      0.71       539\n",
      "weighted avg       0.73      0.71      0.71       539\n",
      "\n"
     ]
    }
   ],
   "source": [
    "from sklearn.model_selection import GridSearchCV\n",
    "\n",
    "# Define the hyperparameter grid for Random Forest\n",
    "param_grid = {\n",
    "    'n_estimators': [100, 200], \n",
    "    'max_depth': [50, 75, 100],\n",
    "    'min_samples_split': [100, 200]\n",
    "}\n",
    "\n",
    "# Initializing GridSearchCV, optimizing for recall of ELI5\n",
    "grid_search = GridSearchCV(\n",
    "    RandomForestClassifier(random_state=42, class_weight='balanced'),\n",
    "    param_grid,\n",
    "    cv=5,\n",
    "    scoring='accuracy',\n",
    "    n_jobs=-1,\n",
    "    verbose=1\n",
    ")\n",
    "\n",
    "# Training the model with GridSearchCV\n",
    "grid_search.fit(X_train, y_train)\n",
    "\n",
    "print(f\"Best Parameters: {grid_search.best_params_}\")\n",
    "print(f\"Best Recall Score: {grid_search.best_score_}\")\n",
    "\n",
    "# Using the best model for predictions\n",
    "best_rf_model = grid_search.best_estimator_\n",
    "y_pred_best_rf = best_rf_model.predict(X_test)\n",
    "\n",
    "# Evaluating the tuned model\n",
    "print(\"Tuned Random Forest Performance:\")\n",
    "print(classification_report(y_test, y_pred_best_rf))"
   ]
  },
  {
   "cell_type": "markdown",
   "id": "9f079cad-6efa-4ad4-a1e5-219ea6e046cd",
   "metadata": {},
   "source": [
    "Hyperparameter tuning did not seem to improve our results. It could be that we need to try more parameters. However, given the amount of features we have included in our model it is quite time consuming and so we will have to optimize the model in the future."
   ]
  },
  {
   "cell_type": "markdown",
   "id": "24c8c569-c743-412b-b37b-3ab12e27b54a",
   "metadata": {},
   "source": [
    "#### Input your own text to test our RF model"
   ]
  },
  {
   "cell_type": "code",
   "execution_count": 27,
   "id": "0136ad0e-b619-43ef-bbb5-e293e7bf7cbd",
   "metadata": {},
   "outputs": [],
   "source": [
    "# Initializing the lemmatizer and stopwords\n",
    "lemmatizer = WordNetLemmatizer()\n",
    "stop_words = set(stopwords.words('english'))\n",
    "\n",
    "def preprocess_text(text):\n",
    "    text = text.lower()\n",
    "    text = re.sub(r'[^a-zA-Z0-9\\s]', '', text)\n",
    "    tokens = word_tokenize(text)\n",
    "    tokens = [lemmatizer.lemmatize(word) for word in tokens if word not in stop_words]\n",
    "    return ' '.join(tokens)"
   ]
  },
  {
   "cell_type": "code",
   "execution_count": 29,
   "id": "5e858eae-d442-4ced-b704-b6079bd6191b",
   "metadata": {},
   "outputs": [
    {
     "name": "stdout",
     "output_type": "stream",
     "text": [
      "The question belongs to subreddit: askscience\n"
     ]
    }
   ],
   "source": [
    "def predict_subreddit(input_text, model, vectorizer):\n",
    "    input_text_cleaned = preprocess_text(input_text)\n",
    "    \n",
    "    # Applying TF-IDF transformation\n",
    "    input_vectorized = vectorizer.transform([input_text_cleaned])\n",
    "    \n",
    "    # Predicting the subreddit\n",
    "    prediction = model.predict(input_vectorized)\n",
    "    \n",
    "    # Mapping the prediction back to subreddit name\n",
    "    subreddit_pred = 'askscience' if prediction == 0 else 'explainlikeimfive'\n",
    "    \n",
    "    return subreddit_pred\n",
    "# Input question\n",
    "input_question = \"Calculate the energy levels and wavelengths of light emitted or absorbed by a hydrogen atom, using the Bohr model or the Schrödinger equation.\"\n",
    "predicted_subreddit = predict_subreddit(input_question, rf_model, tfidf_vectorizer)\n",
    "print(f\"The question belongs to subreddit: {predicted_subreddit}\")"
   ]
  }
 ],
 "metadata": {
  "kernelspec": {
   "display_name": "Python [conda env:base] *",
   "language": "python",
   "name": "conda-base-py"
  },
  "language_info": {
   "codemirror_mode": {
    "name": "ipython",
    "version": 3
   },
   "file_extension": ".py",
   "mimetype": "text/x-python",
   "name": "python",
   "nbconvert_exporter": "python",
   "pygments_lexer": "ipython3",
   "version": "3.12.7"
  }
 },
 "nbformat": 4,
 "nbformat_minor": 5
}

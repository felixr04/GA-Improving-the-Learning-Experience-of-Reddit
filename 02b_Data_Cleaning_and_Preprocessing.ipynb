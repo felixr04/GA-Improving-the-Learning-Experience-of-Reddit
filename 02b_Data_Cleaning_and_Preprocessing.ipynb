{
 "cells": [
  {
   "cell_type": "markdown",
   "id": "2e668166-0ece-4e1e-8c67-2888415770dc",
   "metadata": {},
   "source": [
    "# Data Cleaning and Preprocessing"
   ]
  },
  {
   "cell_type": "markdown",
   "id": "1113d64d-16d6-4850-9e9d-79d1349c0d67",
   "metadata": {},
   "source": [
    "In this notebook we will normailze our data by removing special characters, making all characters lowercase, removing extra spaces, and removing stopwords to help our model preform better."
   ]
  },
  {
   "cell_type": "code",
   "execution_count": 3,
   "id": "cb9f1d0e-16a3-4bcf-98f2-c6b822fdaa7e",
   "metadata": {},
   "outputs": [],
   "source": [
    "# Imports\n",
    "import pandas as pd\n",
    "import re\n",
    "import nltk\n",
    "from nltk.corpus import stopwords\n",
    "from nltk.tokenize import word_tokenize\n",
    "from nltk.stem import WordNetLemmatizer\n",
    "from nltk.corpus import wordnet\n",
    "from sklearn.feature_extraction.text import TfidfVectorizer\n",
    "import matplotlib.pyplot as plt\n",
    "import seaborn as sns\n",
    "import numpy as np\n",
    "from collections import Counter"
   ]
  },
  {
   "cell_type": "code",
   "execution_count": 4,
   "id": "9c51cd0a-84da-4748-a7df-0f5f57e77af4",
   "metadata": {},
   "outputs": [],
   "source": [
    "# Loading in the data\n",
    "df = pd.read_csv('data/final_reddit_posts.csv')"
   ]
  },
  {
   "cell_type": "code",
   "execution_count": 5,
   "id": "22cfaa59-5224-4eba-9a30-56b37bf2586b",
   "metadata": {},
   "outputs": [
    {
     "data": {
      "text/html": [
       "<div>\n",
       "<style scoped>\n",
       "    .dataframe tbody tr th:only-of-type {\n",
       "        vertical-align: middle;\n",
       "    }\n",
       "\n",
       "    .dataframe tbody tr th {\n",
       "        vertical-align: top;\n",
       "    }\n",
       "\n",
       "    .dataframe thead th {\n",
       "        text-align: right;\n",
       "    }\n",
       "</style>\n",
       "<table border=\"1\" class=\"dataframe\">\n",
       "  <thead>\n",
       "    <tr style=\"text-align: right;\">\n",
       "      <th></th>\n",
       "      <th>title</th>\n",
       "      <th>body</th>\n",
       "      <th>subreddit</th>\n",
       "      <th>post_id</th>\n",
       "    </tr>\n",
       "  </thead>\n",
       "  <tbody>\n",
       "    <tr>\n",
       "      <th>0</th>\n",
       "      <td>ELI5: Why is it that when we watch footage fro...</td>\n",
       "      <td>I don't know what it is, but it looks good and...</td>\n",
       "      <td>explainlikeimfive</td>\n",
       "      <td>ivd7cz</td>\n",
       "    </tr>\n",
       "    <tr>\n",
       "      <th>1</th>\n",
       "      <td>ELI5: Why are some spicy foods felt in the mou...</td>\n",
       "      <td>NaN</td>\n",
       "      <td>explainlikeimfive</td>\n",
       "      <td>a0xncr</td>\n",
       "    </tr>\n",
       "    <tr>\n",
       "      <th>2</th>\n",
       "      <td>How do our bones know to grow to be the same l...</td>\n",
       "      <td>I was discussing this with a friend yesterday,...</td>\n",
       "      <td>askscience</td>\n",
       "      <td>1czga5y</td>\n",
       "    </tr>\n",
       "    <tr>\n",
       "      <th>3</th>\n",
       "      <td>ELI5: Types of fiber?</td>\n",
       "      <td>What holds your crap together, what makes it l...</td>\n",
       "      <td>explainlikeimfive</td>\n",
       "      <td>1j8fu34</td>\n",
       "    </tr>\n",
       "    <tr>\n",
       "      <th>4</th>\n",
       "      <td>ELI5- When you don’t eat for a period of time,...</td>\n",
       "      <td>NaN</td>\n",
       "      <td>explainlikeimfive</td>\n",
       "      <td>cnvbvv</td>\n",
       "    </tr>\n",
       "    <tr>\n",
       "      <th>5</th>\n",
       "      <td>On Jupiter, will more superstorms the size the...</td>\n",
       "      <td>Hurricanes and big storms on Earth move around...</td>\n",
       "      <td>askscience</td>\n",
       "      <td>6exgpt</td>\n",
       "    </tr>\n",
       "    <tr>\n",
       "      <th>6</th>\n",
       "      <td>Is there a certain priority list for a severel...</td>\n",
       "      <td>Does human body have a priority list for heali...</td>\n",
       "      <td>askscience</td>\n",
       "      <td>8i6844</td>\n",
       "    </tr>\n",
       "    <tr>\n",
       "      <th>7</th>\n",
       "      <td>ELI5: If the blue pigment is so uncommon in na...</td>\n",
       "      <td>NaN</td>\n",
       "      <td>explainlikeimfive</td>\n",
       "      <td>8z1i1m</td>\n",
       "    </tr>\n",
       "    <tr>\n",
       "      <th>8</th>\n",
       "      <td>ELI5: Why prices are increasing but never decr...</td>\n",
       "      <td>NaN</td>\n",
       "      <td>explainlikeimfive</td>\n",
       "      <td>uadovh</td>\n",
       "    </tr>\n",
       "    <tr>\n",
       "      <th>9</th>\n",
       "      <td>ELI5: Why does your body feel physically ill a...</td>\n",
       "      <td>NaN</td>\n",
       "      <td>explainlikeimfive</td>\n",
       "      <td>6y9qw9</td>\n",
       "    </tr>\n",
       "  </tbody>\n",
       "</table>\n",
       "</div>"
      ],
      "text/plain": [
       "                                               title  \\\n",
       "0  ELI5: Why is it that when we watch footage fro...   \n",
       "1  ELI5: Why are some spicy foods felt in the mou...   \n",
       "2  How do our bones know to grow to be the same l...   \n",
       "3                              ELI5: Types of fiber?   \n",
       "4  ELI5- When you don’t eat for a period of time,...   \n",
       "5  On Jupiter, will more superstorms the size the...   \n",
       "6  Is there a certain priority list for a severel...   \n",
       "7  ELI5: If the blue pigment is so uncommon in na...   \n",
       "8  ELI5: Why prices are increasing but never decr...   \n",
       "9  ELI5: Why does your body feel physically ill a...   \n",
       "\n",
       "                                                body          subreddit  \\\n",
       "0  I don't know what it is, but it looks good and...  explainlikeimfive   \n",
       "1                                                NaN  explainlikeimfive   \n",
       "2  I was discussing this with a friend yesterday,...         askscience   \n",
       "3  What holds your crap together, what makes it l...  explainlikeimfive   \n",
       "4                                                NaN  explainlikeimfive   \n",
       "5  Hurricanes and big storms on Earth move around...         askscience   \n",
       "6  Does human body have a priority list for heali...         askscience   \n",
       "7                                                NaN  explainlikeimfive   \n",
       "8                                                NaN  explainlikeimfive   \n",
       "9                                                NaN  explainlikeimfive   \n",
       "\n",
       "   post_id  \n",
       "0   ivd7cz  \n",
       "1   a0xncr  \n",
       "2  1czga5y  \n",
       "3  1j8fu34  \n",
       "4   cnvbvv  \n",
       "5   6exgpt  \n",
       "6   8i6844  \n",
       "7   8z1i1m  \n",
       "8   uadovh  \n",
       "9   6y9qw9  "
      ]
     },
     "execution_count": 5,
     "metadata": {},
     "output_type": "execute_result"
    }
   ],
   "source": [
    "df.head(10)"
   ]
  },
  {
   "cell_type": "code",
   "execution_count": 6,
   "id": "60ab2582-c729-4ca0-9217-0acb5b704750",
   "metadata": {},
   "outputs": [
    {
     "data": {
      "text/plain": [
       "title           0\n",
       "body         1273\n",
       "subreddit       0\n",
       "post_id         0\n",
       "dtype: int64"
      ]
     },
     "execution_count": 6,
     "metadata": {},
     "output_type": "execute_result"
    }
   ],
   "source": [
    "# Looking for null values\n",
    "df.isnull().sum()"
   ]
  },
  {
   "cell_type": "code",
   "execution_count": 7,
   "id": "8709e1c8-fd3e-4461-a5d3-530522f71c60",
   "metadata": {},
   "outputs": [
    {
     "data": {
      "text/plain": [
       "subreddit\n",
       "askscience           559\n",
       "explainlikeimfive    714\n",
       "Name: body, dtype: int64"
      ]
     },
     "execution_count": 7,
     "metadata": {},
     "output_type": "execute_result"
    }
   ],
   "source": [
    "df.groupby('subreddit')['body'].apply(lambda x: x.isnull().sum())"
   ]
  },
  {
   "cell_type": "markdown",
   "id": "1d704e64-e024-4744-94e2-f761528bd6b6",
   "metadata": {},
   "source": [
    "It looks like there a significant amount of null values coming from the body variable. Interestingly enough, there are 155 more body text missing from the subreddit explainlikeimfive. Those users might have less details to share. This makes sense since most users get their point accross in just the title of a subreddit. If I want my model to into account body, I cannot just drop null observations as my amount of data would be cut in about half. One solution I can think of is to replace the null values with ''. This way when we combine the text from both body and title, the title will be the only text left for those null observations."
   ]
  },
  {
   "cell_type": "code",
   "execution_count": 9,
   "id": "5f78eeae-43cc-4c74-9160-dd962f75f045",
   "metadata": {},
   "outputs": [
    {
     "name": "stdout",
     "output_type": "stream",
     "text": [
      "title        0\n",
      "body         0\n",
      "subreddit    0\n",
      "post_id      0\n",
      "dtype: int64\n"
     ]
    }
   ],
   "source": [
    "# Filling missing body with ''\n",
    "df = df.assign(body=df['body'].fillna(''))\n",
    "\n",
    "# Verifying there are no more nulls\n",
    "print(df.isnull().sum())"
   ]
  },
  {
   "cell_type": "markdown",
   "id": "6f7f961b-f7a7-40a9-9056-7bea957ed92f",
   "metadata": {},
   "source": [
    "Great that solves our null values issues. Now the next cleaning step I wanted to take would be to normalize the body and title. I noticed that there are special characters as well as a mix of lover and upper case characters. We will use the Regex module to help detect the abscence and presence of text in our data.\n",
    "\n",
    "https://www.geeksforgeeks.org/regular-expression-python-examples/"
   ]
  },
  {
   "cell_type": "code",
   "execution_count": 11,
   "id": "baa49134-3b81-4299-aeb0-b1942dc46362",
   "metadata": {},
   "outputs": [],
   "source": [
    "# Defining a function to convert to lowercase, remove extra spaces, and remove special characters of text\n",
    "def clean_text(text):\n",
    "    text = text.lower()\n",
    "    text = re.sub(r'\\s+', ' ', text)\n",
    "    text = re.sub(r'[^a-zA-Z0-9\\s]', '', text)\n",
    "    return text.strip()\n",
    "\n",
    "# Applying text cleaning to title and body\n",
    "df['title'] = df['title'].apply(clean_text)\n",
    "df['body'] = df['body'].apply(clean_text)"
   ]
  },
  {
   "cell_type": "code",
   "execution_count": 12,
   "id": "1d38a5f9-0a7a-4d0a-bc86-29d8de04378f",
   "metadata": {},
   "outputs": [
    {
     "data": {
      "text/html": [
       "<div>\n",
       "<style scoped>\n",
       "    .dataframe tbody tr th:only-of-type {\n",
       "        vertical-align: middle;\n",
       "    }\n",
       "\n",
       "    .dataframe tbody tr th {\n",
       "        vertical-align: top;\n",
       "    }\n",
       "\n",
       "    .dataframe thead th {\n",
       "        text-align: right;\n",
       "    }\n",
       "</style>\n",
       "<table border=\"1\" class=\"dataframe\">\n",
       "  <thead>\n",
       "    <tr style=\"text-align: right;\">\n",
       "      <th></th>\n",
       "      <th>title</th>\n",
       "      <th>body</th>\n",
       "      <th>subreddit</th>\n",
       "      <th>post_id</th>\n",
       "    </tr>\n",
       "  </thead>\n",
       "  <tbody>\n",
       "    <tr>\n",
       "      <th>0</th>\n",
       "      <td>eli5 why is it that when we watch footage from...</td>\n",
       "      <td>i dont know what it is but it looks good and s...</td>\n",
       "      <td>explainlikeimfive</td>\n",
       "      <td>ivd7cz</td>\n",
       "    </tr>\n",
       "    <tr>\n",
       "      <th>1</th>\n",
       "      <td>eli5 why are some spicy foods felt in the mout...</td>\n",
       "      <td></td>\n",
       "      <td>explainlikeimfive</td>\n",
       "      <td>a0xncr</td>\n",
       "    </tr>\n",
       "    <tr>\n",
       "      <th>2</th>\n",
       "      <td>how do our bones know to grow to be the same l...</td>\n",
       "      <td>i was discussing this with a friend yesterday ...</td>\n",
       "      <td>askscience</td>\n",
       "      <td>1czga5y</td>\n",
       "    </tr>\n",
       "    <tr>\n",
       "      <th>3</th>\n",
       "      <td>eli5 types of fiber</td>\n",
       "      <td>what holds your crap together what makes it lo...</td>\n",
       "      <td>explainlikeimfive</td>\n",
       "      <td>1j8fu34</td>\n",
       "    </tr>\n",
       "    <tr>\n",
       "      <th>4</th>\n",
       "      <td>eli5 when you dont eat for a period of time wh...</td>\n",
       "      <td></td>\n",
       "      <td>explainlikeimfive</td>\n",
       "      <td>cnvbvv</td>\n",
       "    </tr>\n",
       "    <tr>\n",
       "      <th>5</th>\n",
       "      <td>on jupiter will more superstorms the size the ...</td>\n",
       "      <td>hurricanes and big storms on earth move around...</td>\n",
       "      <td>askscience</td>\n",
       "      <td>6exgpt</td>\n",
       "    </tr>\n",
       "    <tr>\n",
       "      <th>6</th>\n",
       "      <td>is there a certain priority list for a severel...</td>\n",
       "      <td>does human body have a priority list for heali...</td>\n",
       "      <td>askscience</td>\n",
       "      <td>8i6844</td>\n",
       "    </tr>\n",
       "    <tr>\n",
       "      <th>7</th>\n",
       "      <td>eli5 if the blue pigment is so uncommon in nat...</td>\n",
       "      <td></td>\n",
       "      <td>explainlikeimfive</td>\n",
       "      <td>8z1i1m</td>\n",
       "    </tr>\n",
       "    <tr>\n",
       "      <th>8</th>\n",
       "      <td>eli5 why prices are increasing but never decre...</td>\n",
       "      <td></td>\n",
       "      <td>explainlikeimfive</td>\n",
       "      <td>uadovh</td>\n",
       "    </tr>\n",
       "    <tr>\n",
       "      <th>9</th>\n",
       "      <td>eli5 why does your body feel physically ill af...</td>\n",
       "      <td></td>\n",
       "      <td>explainlikeimfive</td>\n",
       "      <td>6y9qw9</td>\n",
       "    </tr>\n",
       "    <tr>\n",
       "      <th>10</th>\n",
       "      <td>eli5 why are arrest records and mugshots made ...</td>\n",
       "      <td>wouldnt this paint a picture that the person i...</td>\n",
       "      <td>explainlikeimfive</td>\n",
       "      <td>8kbuio</td>\n",
       "    </tr>\n",
       "    <tr>\n",
       "      <th>11</th>\n",
       "      <td>came across this fact while browsing the net i...</td>\n",
       "      <td>if you have 23 people in a room there is a 50 ...</td>\n",
       "      <td>askscience</td>\n",
       "      <td>3j81fq</td>\n",
       "    </tr>\n",
       "    <tr>\n",
       "      <th>12</th>\n",
       "      <td>eli5 major league baseball batting strategy ar...</td>\n",
       "      <td></td>\n",
       "      <td>explainlikeimfive</td>\n",
       "      <td>69ehab</td>\n",
       "    </tr>\n",
       "    <tr>\n",
       "      <th>13</th>\n",
       "      <td>are the symptoms of an illness the illness its...</td>\n",
       "      <td>im listening to the stand by stephen king and ...</td>\n",
       "      <td>askscience</td>\n",
       "      <td>1etsf2h</td>\n",
       "    </tr>\n",
       "    <tr>\n",
       "      <th>14</th>\n",
       "      <td>eli5 why do marvel movies and other heavily cg...</td>\n",
       "      <td></td>\n",
       "      <td>explainlikeimfive</td>\n",
       "      <td>bfxz9t</td>\n",
       "    </tr>\n",
       "    <tr>\n",
       "      <th>15</th>\n",
       "      <td>whats the difficulty in making a pill that act...</td>\n",
       "      <td>i have a bit of biochemistry background and ki...</td>\n",
       "      <td>askscience</td>\n",
       "      <td>kl1wk6</td>\n",
       "    </tr>\n",
       "    <tr>\n",
       "      <th>16</th>\n",
       "      <td>eli5 how does blood circulate through your bod...</td>\n",
       "      <td></td>\n",
       "      <td>explainlikeimfive</td>\n",
       "      <td>64zwwz</td>\n",
       "    </tr>\n",
       "    <tr>\n",
       "      <th>17</th>\n",
       "      <td>eli5 what makes permanent markers more permane...</td>\n",
       "      <td></td>\n",
       "      <td>explainlikeimfive</td>\n",
       "      <td>mmowjo</td>\n",
       "    </tr>\n",
       "    <tr>\n",
       "      <th>18</th>\n",
       "      <td>eli5 what causes proteins to misfold</td>\n",
       "      <td>so im assuming theres a reason why proteins fo...</td>\n",
       "      <td>explainlikeimfive</td>\n",
       "      <td>1ja88bu</td>\n",
       "    </tr>\n",
       "    <tr>\n",
       "      <th>19</th>\n",
       "      <td>eli5 when inside a large group of people at a ...</td>\n",
       "      <td></td>\n",
       "      <td>explainlikeimfive</td>\n",
       "      <td>dl7ve0</td>\n",
       "    </tr>\n",
       "  </tbody>\n",
       "</table>\n",
       "</div>"
      ],
      "text/plain": [
       "                                                title  \\\n",
       "0   eli5 why is it that when we watch footage from...   \n",
       "1   eli5 why are some spicy foods felt in the mout...   \n",
       "2   how do our bones know to grow to be the same l...   \n",
       "3                                 eli5 types of fiber   \n",
       "4   eli5 when you dont eat for a period of time wh...   \n",
       "5   on jupiter will more superstorms the size the ...   \n",
       "6   is there a certain priority list for a severel...   \n",
       "7   eli5 if the blue pigment is so uncommon in nat...   \n",
       "8   eli5 why prices are increasing but never decre...   \n",
       "9   eli5 why does your body feel physically ill af...   \n",
       "10  eli5 why are arrest records and mugshots made ...   \n",
       "11  came across this fact while browsing the net i...   \n",
       "12  eli5 major league baseball batting strategy ar...   \n",
       "13  are the symptoms of an illness the illness its...   \n",
       "14  eli5 why do marvel movies and other heavily cg...   \n",
       "15  whats the difficulty in making a pill that act...   \n",
       "16  eli5 how does blood circulate through your bod...   \n",
       "17  eli5 what makes permanent markers more permane...   \n",
       "18               eli5 what causes proteins to misfold   \n",
       "19  eli5 when inside a large group of people at a ...   \n",
       "\n",
       "                                                 body          subreddit  \\\n",
       "0   i dont know what it is but it looks good and s...  explainlikeimfive   \n",
       "1                                                      explainlikeimfive   \n",
       "2   i was discussing this with a friend yesterday ...         askscience   \n",
       "3   what holds your crap together what makes it lo...  explainlikeimfive   \n",
       "4                                                      explainlikeimfive   \n",
       "5   hurricanes and big storms on earth move around...         askscience   \n",
       "6   does human body have a priority list for heali...         askscience   \n",
       "7                                                      explainlikeimfive   \n",
       "8                                                      explainlikeimfive   \n",
       "9                                                      explainlikeimfive   \n",
       "10  wouldnt this paint a picture that the person i...  explainlikeimfive   \n",
       "11  if you have 23 people in a room there is a 50 ...         askscience   \n",
       "12                                                     explainlikeimfive   \n",
       "13  im listening to the stand by stephen king and ...         askscience   \n",
       "14                                                     explainlikeimfive   \n",
       "15  i have a bit of biochemistry background and ki...         askscience   \n",
       "16                                                     explainlikeimfive   \n",
       "17                                                     explainlikeimfive   \n",
       "18  so im assuming theres a reason why proteins fo...  explainlikeimfive   \n",
       "19                                                     explainlikeimfive   \n",
       "\n",
       "    post_id  \n",
       "0    ivd7cz  \n",
       "1    a0xncr  \n",
       "2   1czga5y  \n",
       "3   1j8fu34  \n",
       "4    cnvbvv  \n",
       "5    6exgpt  \n",
       "6    8i6844  \n",
       "7    8z1i1m  \n",
       "8    uadovh  \n",
       "9    6y9qw9  \n",
       "10   8kbuio  \n",
       "11   3j81fq  \n",
       "12   69ehab  \n",
       "13  1etsf2h  \n",
       "14   bfxz9t  \n",
       "15   kl1wk6  \n",
       "16   64zwwz  \n",
       "17   mmowjo  \n",
       "18  1ja88bu  \n",
       "19   dl7ve0  "
      ]
     },
     "execution_count": 12,
     "metadata": {},
     "output_type": "execute_result"
    }
   ],
   "source": [
    "# Checking if our function worked\n",
    "df.head(20)"
   ]
  },
  {
   "cell_type": "markdown",
   "id": "ffd638b3-d862-4f4f-8c5a-1e273ed7a8e2",
   "metadata": {},
   "source": [
    "Great looks like our function worked! Next item to clean will be the \"eli5\" at the begining of most of the explainlikeimfive subreddit. This could introduce bias into our classification.\n",
    "\n",
    "* Overfitting Risk\n",
    "    * If our model learns that \"eli5\" is a strong signal for this subreddit, it may rely too heavily on that keyword instead of focusing on the actual content of the post.\n",
    "* Data Leakage Risk\n",
    "    * If \"eli5\" appears in both the training and testing sets, the model could achieve artificially high accuracy without actually learning the difference in content complexity.\n",
    "\n",
    "To fix this we will remove \"elif\" from both the title and body since some of our body text has the same text as the title."
   ]
  },
  {
   "cell_type": "code",
   "execution_count": 14,
   "id": "e11cfc17-76b5-4230-b328-743fbbbe3921",
   "metadata": {},
   "outputs": [],
   "source": [
    "# Removing 'eli5' from title and body\n",
    "df['title'] = df['title'].str.replace(r'^\\s*ELI5[:\\-]?\\s*', '', regex=True, flags=re.IGNORECASE)\n",
    "df['body'] = df['body'].str.replace(r'^\\s*ELI5[:\\-]?\\s*', '', regex=True, flags=re.IGNORECASE)"
   ]
  },
  {
   "cell_type": "code",
   "execution_count": 15,
   "id": "4e83c6ab-4e4c-4480-b919-fd7e6f19318a",
   "metadata": {},
   "outputs": [],
   "source": [
    "df.to_csv('data/reddit_post_cleaned_normalized_stopwords.csv', index=False)"
   ]
  },
  {
   "cell_type": "markdown",
   "id": "b2cfb210-2403-429f-a4f0-b5dfc9a6c82b",
   "metadata": {},
   "source": [
    "Great that worked. Now we can move on to tokenizationa and removing stop words. This step is useful for NLP models\n",
    "\n",
    "* Tokenization splits text into individual words (tokens), which helps the model analyze content meaningfully.\n",
    "* Stopwords are common words (the, is, and, of...) that don’t carry significant meaning and can be removed to reduce noise."
   ]
  },
  {
   "cell_type": "code",
   "execution_count": 17,
   "id": "fbcf4877-b6ed-4a74-849a-2c67cb2f53c3",
   "metadata": {},
   "outputs": [],
   "source": [
    "# Assigning stopwords\n",
    "stop_words = set(stopwords.words('english'))\n",
    "# Creating a function to tokenize and remove stop words\n",
    "def tokenize_and_remove_stopwords(text):\n",
    "    words = word_tokenize(text)\n",
    "    words = [word for word in words if word not in stop_words]\n",
    "    return ' '.join(words)\n",
    "# Applying to the text columns\n",
    "df['title'] = df['title'].apply(tokenize_and_remove_stopwords)\n",
    "df['body'] = df['body'].apply(tokenize_and_remove_stopwords)"
   ]
  },
  {
   "cell_type": "code",
   "execution_count": 18,
   "id": "a3213af9-4d63-495f-86b9-368b18533dc7",
   "metadata": {},
   "outputs": [
    {
     "data": {
      "text/html": [
       "<div>\n",
       "<style scoped>\n",
       "    .dataframe tbody tr th:only-of-type {\n",
       "        vertical-align: middle;\n",
       "    }\n",
       "\n",
       "    .dataframe tbody tr th {\n",
       "        vertical-align: top;\n",
       "    }\n",
       "\n",
       "    .dataframe thead th {\n",
       "        text-align: right;\n",
       "    }\n",
       "</style>\n",
       "<table border=\"1\" class=\"dataframe\">\n",
       "  <thead>\n",
       "    <tr style=\"text-align: right;\">\n",
       "      <th></th>\n",
       "      <th>title</th>\n",
       "      <th>body</th>\n",
       "      <th>subreddit</th>\n",
       "      <th>post_id</th>\n",
       "    </tr>\n",
       "  </thead>\n",
       "  <tbody>\n",
       "    <tr>\n",
       "      <th>0</th>\n",
       "      <td>watch footage 70s lot times looks better foota...</td>\n",
       "      <td>dont know looks good sharp despite pixelated e...</td>\n",
       "      <td>explainlikeimfive</td>\n",
       "      <td>ivd7cz</td>\n",
       "    </tr>\n",
       "    <tr>\n",
       "      <th>1</th>\n",
       "      <td>spicy foods felt mouth ie hot sauce felt sinus...</td>\n",
       "      <td></td>\n",
       "      <td>explainlikeimfive</td>\n",
       "      <td>a0xncr</td>\n",
       "    </tr>\n",
       "    <tr>\n",
       "      <th>2</th>\n",
       "      <td>bones know grow length</td>\n",
       "      <td>discussing friend yesterday trying work bones ...</td>\n",
       "      <td>askscience</td>\n",
       "      <td>1czga5y</td>\n",
       "    </tr>\n",
       "    <tr>\n",
       "      <th>3</th>\n",
       "      <td>types fiber</td>\n",
       "      <td>holds crap together makes loose helps go stay ...</td>\n",
       "      <td>explainlikeimfive</td>\n",
       "      <td>1j8fu34</td>\n",
       "    </tr>\n",
       "    <tr>\n",
       "      <th>4</th>\n",
       "      <td>dont eat period time sometimes feel nauseous p...</td>\n",
       "      <td></td>\n",
       "      <td>explainlikeimfive</td>\n",
       "      <td>cnvbvv</td>\n",
       "    </tr>\n",
       "  </tbody>\n",
       "</table>\n",
       "</div>"
      ],
      "text/plain": [
       "                                               title  \\\n",
       "0  watch footage 70s lot times looks better foota...   \n",
       "1  spicy foods felt mouth ie hot sauce felt sinus...   \n",
       "2                             bones know grow length   \n",
       "3                                        types fiber   \n",
       "4  dont eat period time sometimes feel nauseous p...   \n",
       "\n",
       "                                                body          subreddit  \\\n",
       "0  dont know looks good sharp despite pixelated e...  explainlikeimfive   \n",
       "1                                                     explainlikeimfive   \n",
       "2  discussing friend yesterday trying work bones ...         askscience   \n",
       "3  holds crap together makes loose helps go stay ...  explainlikeimfive   \n",
       "4                                                     explainlikeimfive   \n",
       "\n",
       "   post_id  \n",
       "0   ivd7cz  \n",
       "1   a0xncr  \n",
       "2  1czga5y  \n",
       "3  1j8fu34  \n",
       "4   cnvbvv  "
      ]
     },
     "execution_count": 18,
     "metadata": {},
     "output_type": "execute_result"
    }
   ],
   "source": [
    "df.head()"
   ]
  },
  {
   "cell_type": "markdown",
   "id": "beeb1c47-c189-4d30-8a47-f703ce046295",
   "metadata": {},
   "source": [
    "We can now move on to lemmatization, which reduces words to their base or root form (running to run, better to good). This helps with normalization and improves text analysis. We are using leematization instead of stemming because it does a better job at understanding the meaning and context of the word instead of just chopping off word endings. This is critical because the matter in which a user asks a question seems like it will be a huge factor in predicting what subreddit it is coming from."
   ]
  },
  {
   "cell_type": "code",
   "execution_count": 20,
   "id": "1da37cb2-0257-43c5-8025-f17ba82d4cb3",
   "metadata": {},
   "outputs": [],
   "source": [
    "# Initializing lemmatizer\n",
    "lemmatizer = WordNetLemmatizer()\n",
    "\n",
    "def lemmatize_text(text):\n",
    "    if isinstance(text, str):\n",
    "        tokens = text.split()\n",
    "        lemmatized_tokens = [lemmatizer.lemmatize(word) for word in tokens]  \n",
    "        return ' '.join(lemmatized_tokens)  \n",
    "    return ''\n",
    "\n",
    "# Applying lemmatization to both title and body\n",
    "df['title'] = df['title'].apply(lemmatize_text)\n",
    "df['body'] = df['body'].apply(lemmatize_text)"
   ]
  },
  {
   "cell_type": "code",
   "execution_count": 21,
   "id": "687e2872-5434-4b0f-972d-7bc30326ba26",
   "metadata": {},
   "outputs": [
    {
     "data": {
      "text/plain": [
       "title        0\n",
       "body         0\n",
       "subreddit    0\n",
       "post_id      0\n",
       "dtype: int64"
      ]
     },
     "execution_count": 21,
     "metadata": {},
     "output_type": "execute_result"
    }
   ],
   "source": [
    "df.isnull().sum()"
   ]
  },
  {
   "cell_type": "code",
   "execution_count": 22,
   "id": "088e73f7-fe98-4993-a77d-c71d766f893c",
   "metadata": {},
   "outputs": [],
   "source": [
    "# Saving the dataset that is now cleaned, and normalized\n",
    "#df.to_csv('data/reddit_post_cleaned_normalized.csv', index=False)"
   ]
  },
  {
   "cell_type": "markdown",
   "id": "4c86527d-ed15-4f7c-8265-e9c23fbc7d6f",
   "metadata": {},
   "source": [
    "We are now ready to move on to vectorization to prepare the data for classification. We have several approches to choose from to address vectorization but I believe our model will best benefit from TF-IDF Vectorization to give significance to important words rather than common ones. We will limit the features (words) to 500 for now."
   ]
  },
  {
   "cell_type": "code",
   "execution_count": 24,
   "id": "076656f5-9fec-493b-bd18-7827899e4469",
   "metadata": {},
   "outputs": [
    {
     "name": "stdout",
     "output_type": "stream",
     "text": [
      "TF-IDF Matrix Shape: (2692, 500)\n"
     ]
    }
   ],
   "source": [
    "# Initializing TF-IDF Vectorizer\n",
    "tfidf_vectorizer = TfidfVectorizer(max_features=500)\n",
    "\n",
    "# Combining title and body text as mentioned before\n",
    "df['combined_text'] = df['title'] + ' ' + df['body']\n",
    "\n",
    "# Appling TF-IDF transformation\n",
    "X = tfidf_vectorizer.fit_transform(df['combined_text'])\n",
    "\n",
    "# Checking shape of the transformed matrix\n",
    "print(f\"TF-IDF Matrix Shape: {X.shape}\")"
   ]
  },
  {
   "cell_type": "markdown",
   "id": "ed6b7bf3-7d58-4a1e-aa02-ff8eb1fd570e",
   "metadata": {},
   "source": [
    "## Visualizing Normalized Text"
   ]
  },
  {
   "cell_type": "markdown",
   "id": "290b60ab-c205-43cb-8263-5185b19e7374",
   "metadata": {},
   "source": [
    "Lets visualize the text length distrubtion after we have now normalized our text data."
   ]
  },
  {
   "cell_type": "code",
   "execution_count": 27,
   "id": "82aa0048-39f4-4de6-9876-3c4b68c9d19d",
   "metadata": {},
   "outputs": [
    {
     "data": {
      "image/png": "[encoded data removed]",
      "text/plain": [
       "<Figure size 800x500 with 1 Axes>"
      ]
     },
     "metadata": {},
     "output_type": "display_data"
    }
   ],
   "source": [
    "# text length\n",
    "df['text_length'] = df['combined_text'].apply(lambda x: len(x.split()))\n",
    "\n",
    "# Plotting the distribution\n",
    "plt.figure(figsize=(8,5))\n",
    "sns.histplot(df, x='text_length', hue='subreddit', bins=50, kde=True)\n",
    "plt.title(\"Distribution of Post Lengths by Subreddit\")\n",
    "plt.xlabel(\"Number of Words in Post\")\n",
    "plt.ylabel(\"Frequency\")\n",
    "plt.xlim(0, 400)\n",
    "plt.savefig('images/dist_post_by_subreddit.png', dpi=300)\n",
    "plt.show()"
   ]
  },
  {
   "cell_type": "markdown",
   "id": "a52ab8e5-3d6a-48a3-8898-8306573ab5ee",
   "metadata": {},
   "source": [
    "It looks similar to our preliminary distribution. Now the explainlikeimfive subreddit has a higher frequency up until about 30 words."
   ]
  },
  {
   "cell_type": "code",
   "execution_count": 29,
   "id": "78cc4a7f-8cfd-4aca-b0e0-bc7784ab9f44",
   "metadata": {},
   "outputs": [
    {
     "data": {
      "image/png": "[encoded data removed]",
      "text/plain": [
       "<Figure size 640x480 with 1 Axes>"
      ]
     },
     "metadata": {},
     "output_type": "display_data"
    }
   ],
   "source": [
    "# Computing the average text length per subreddit\n",
    "avg_text_length = df.groupby('subreddit')['text_length'].mean().reset_index()\n",
    "\n",
    "# Plotting the bar chart\n",
    "sns.barplot(data=avg_text_length, x='subreddit', y='text_length')\n",
    "plt.title(\"Average Post Length by Subreddit\")\n",
    "plt.xlabel(\"Subreddit\")\n",
    "plt.ylabel(\"Average Number of Words in Post\")\n",
    "plt.savefig('images/avg_post_by_subreddit.png', dpi=300)\n",
    "plt.show()"
   ]
  },
  {
   "cell_type": "code",
   "execution_count": 30,
   "id": "99d760cb-62e1-4706-9b67-b9e58209a3db",
   "metadata": {},
   "outputs": [
    {
     "data": {
      "image/png": "[encoded data removed]",
      "text/plain": [
       "<Figure size 1000x600 with 1 Axes>"
      ]
     },
     "metadata": {},
     "output_type": "display_data"
    },
    {
     "data": {
      "image/png": "[encoded data removed]",
      "text/plain": [
       "<Figure size 1000x600 with 1 Axes>"
      ]
     },
     "metadata": {},
     "output_type": "display_data"
    }
   ],
   "source": [
    "# Function to get the most common words\n",
    "def plot_most_common_words(subreddit, n=20):\n",
    "    text = \" \".join(df[df['subreddit'] == subreddit]['combined_text'])\n",
    "    words = text.split()\n",
    "    word_counts = Counter(words)\n",
    "    common_words = word_counts.most_common(n)\n",
    "    words, counts = zip(*common_words)\n",
    "    \n",
    "    # Plotting\n",
    "    plt.figure(figsize=(10,6))\n",
    "    sns.barplot(x=list(counts), y=list(words), color= '#706D54')\n",
    "    plt.title(f\"Top {n} Most Common Words in {subreddit}\")\n",
    "    plt.xlabel(\"Word Count\")\n",
    "    plt.ylabel(\"Words\")\n",
    "    plt.xlim(0, 500)\n",
    "    plt.savefig(f\"images/most_common_words_{subreddit}.png\", dpi=300)\n",
    "    plt.show()\n",
    "\n",
    "# Plotting for both subreddits\n",
    "for subreddit in df['subreddit'].unique():\n",
    "    plot_most_common_words(subreddit, n=20)"
   ]
  },
  {
   "cell_type": "markdown",
   "id": "33e5a229-581b-46c2-98ec-800f6540fa61",
   "metadata": {},
   "source": [
    "Interestingly enough, the ELIF subreddit has common words such as work and mean which are typically words one might ask when they are looking for a bigger picture style answer. The askscience subreddit has more measurable common words like time and year. The most common word in that subreddit is would."
   ]
  },
  {
   "cell_type": "markdown",
   "id": "220557c3-d63f-4c2c-85ca-090b9b2da357",
   "metadata": {},
   "source": [
    "In the next notebook we will transform the data using TF-IDF. This will leave give more significance to the important words and so it will be interesting to see how or if our barchart above changes at all."
   ]
  }
 ],
 "metadata": {
  "kernelspec": {
   "display_name": "Python [conda env:base] *",
   "language": "python",
   "name": "conda-base-py"
  },
  "language_info": {
   "codemirror_mode": {
    "name": "ipython",
    "version": 3
   },
   "file_extension": ".py",
   "mimetype": "text/x-python",
   "name": "python",
   "nbconvert_exporter": "python",
   "pygments_lexer": "ipython3",
   "version": "3.12.7"
  }
 },
 "nbformat": 4,
 "nbformat_minor": 5
}

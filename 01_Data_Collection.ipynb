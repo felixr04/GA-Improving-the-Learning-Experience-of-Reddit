{
 "cells": [
  {
   "cell_type": "markdown",
   "id": "e3226fb3-7941-400d-bd94-746d100d5e67",
   "metadata": {},
   "source": [
    "# Collecting Data from the Subreddits"
   ]
  },
  {
   "cell_type": "markdown",
   "id": "cb6115aa-0136-4ef9-988b-fcf54f84cc86",
   "metadata": {},
   "source": [
    "In this notebook we will aim to collect about 1000 posts per subreddit using PRAW."
   ]
  },
  {
   "cell_type": "code",
   "execution_count": null,
   "id": "3ff5271b-35fe-4835-a856-4f84346de758",
   "metadata": {},
   "outputs": [],
   "source": [
    "# Imports\n",
    "import praw"
   ]
  },
  {
   "cell_type": "code",
   "execution_count": 9,
   "id": "f74b966a-c8c3-4279-b9b8-3d71c4308620",
   "metadata": {},
   "outputs": [],
   "source": [
    "\n",
    "# Defining my API credentials\n",
    "client_id = \"my_client_id\"\n",
    "client_secret = \"my_password\"\n",
    "user_agent = \"data collection by u/my_user\"\n",
    "\n",
    "# Initializing PRAW\n",
    "reddit = praw.Reddit(client_id=client_id,\n",
    "                     client_secret=client_secret,\n",
    "                     user_agent=user_agent)"
   ]
  },
  {
   "cell_type": "code",
   "execution_count": 19,
   "id": "d162afa1-cb7e-4950-a758-3485e414311e",
   "metadata": {},
   "outputs": [
    {
     "name": "stdout",
     "output_type": "stream",
     "text": [
      "Collected 1335 posts from both subreddits.\n"
     ]
    }
   ],
   "source": [
    "# Defining a function to collect posts from r/askscience and r/explainlikeim5\n",
    "def collect_posts(subreddit_name, limit=1000):\n",
    "    subreddit = reddit.subreddit(subreddit_name)\n",
    "    posts = []\n",
    "    \n",
    "    # Collecting posts from the subreddit\n",
    "    for post in subreddit.hot(limit=limit):\n",
    "        post_data = {\n",
    "            'title': post.title,\n",
    "            'body': post.selftext,\n",
    "            'subreddit': subreddit_name,\n",
    "            'post_id': post.id,\n",
    "        }\n",
    "        posts.append(post_data)\n",
    "    \n",
    "    return posts\n",
    "\n",
    "askscience_posts = collect_posts('askscience', limit=1000)\n",
    "explainlikeim5_posts = collect_posts('explainlikeimfive', limit=1000)\n",
    "\n",
    "# Combining the posts into a single list\n",
    "all_posts = askscience_posts + explainlikeim5_posts\n",
    "print(f\"Collected {len(all_posts)} posts from both subreddits.\")"
   ]
  },
  {
   "cell_type": "code",
   "execution_count": 29,
   "id": "0bc2d5fc-0c9c-434e-8b00-0493fe9a2d60",
   "metadata": {},
   "outputs": [],
   "source": [
    "import pandas as pd\n",
    "\n",
    "# Converting the list of posts to a DataFrame\n",
    "all_posts_df = pd.DataFrame(all_posts)"
   ]
  },
  {
   "cell_type": "code",
   "execution_count": 31,
   "id": "f9cfcd1a-ef4f-42bb-9e8f-68c060c9e351",
   "metadata": {},
   "outputs": [
    {
     "data": {
      "text/html": [
       "<div>\n",
       "<style scoped>\n",
       "    .dataframe tbody tr th:only-of-type {\n",
       "        vertical-align: middle;\n",
       "    }\n",
       "\n",
       "    .dataframe tbody tr th {\n",
       "        vertical-align: top;\n",
       "    }\n",
       "\n",
       "    .dataframe thead th {\n",
       "        text-align: right;\n",
       "    }\n",
       "</style>\n",
       "<table border=\"1\" class=\"dataframe\">\n",
       "  <thead>\n",
       "    <tr style=\"text-align: right;\">\n",
       "      <th></th>\n",
       "      <th>title</th>\n",
       "      <th>body</th>\n",
       "      <th>subreddit</th>\n",
       "      <th>post_id</th>\n",
       "    </tr>\n",
       "  </thead>\n",
       "  <tbody>\n",
       "    <tr>\n",
       "      <th>0</th>\n",
       "      <td>AskScience Panel of Scientists XXVII</td>\n",
       "      <td>**Please read this entire post carefully and f...</td>\n",
       "      <td>askscience</td>\n",
       "      <td>1i4r3rj</td>\n",
       "    </tr>\n",
       "    <tr>\n",
       "      <th>1</th>\n",
       "      <td>Meta: What's going on with funding for science...</td>\n",
       "      <td>Funding and support for science in the United ...</td>\n",
       "      <td>askscience</td>\n",
       "      <td>1it5o2t</td>\n",
       "    </tr>\n",
       "    <tr>\n",
       "      <th>2</th>\n",
       "      <td>Why are saturns rings seen as “flat” and not d...</td>\n",
       "      <td>B</td>\n",
       "      <td>askscience</td>\n",
       "      <td>1jbh4au</td>\n",
       "    </tr>\n",
       "    <tr>\n",
       "      <th>3</th>\n",
       "      <td>Does the microbiome of the human skin (eyelash...</td>\n",
       "      <td>There are a lot of things that live on the hum...</td>\n",
       "      <td>askscience</td>\n",
       "      <td>1janev9</td>\n",
       "    </tr>\n",
       "    <tr>\n",
       "      <th>4</th>\n",
       "      <td>Flu shots are a product of eggs.  Is the curre...</td>\n",
       "      <td>Obviously the egg shortage is currently a prob...</td>\n",
       "      <td>askscience</td>\n",
       "      <td>1jam6a8</td>\n",
       "    </tr>\n",
       "  </tbody>\n",
       "</table>\n",
       "</div>"
      ],
      "text/plain": [
       "                                               title  \\\n",
       "0               AskScience Panel of Scientists XXVII   \n",
       "1  Meta: What's going on with funding for science...   \n",
       "2  Why are saturns rings seen as “flat” and not d...   \n",
       "3  Does the microbiome of the human skin (eyelash...   \n",
       "4  Flu shots are a product of eggs.  Is the curre...   \n",
       "\n",
       "                                                body   subreddit  post_id  \n",
       "0  **Please read this entire post carefully and f...  askscience  1i4r3rj  \n",
       "1  Funding and support for science in the United ...  askscience  1it5o2t  \n",
       "2                                                  B  askscience  1jbh4au  \n",
       "3  There are a lot of things that live on the hum...  askscience  1janev9  \n",
       "4  Obviously the egg shortage is currently a prob...  askscience  1jam6a8  "
      ]
     },
     "execution_count": 31,
     "metadata": {},
     "output_type": "execute_result"
    }
   ],
   "source": [
    "all_posts_df.head()"
   ]
  },
  {
   "cell_type": "code",
   "execution_count": 33,
   "id": "e1ff6a6a-9553-4924-b8b0-bb3a82748ebb",
   "metadata": {},
   "outputs": [
    {
     "name": "stdout",
     "output_type": "stream",
     "text": [
      "Collected 1966 posts from both subreddits.\n"
     ]
    }
   ],
   "source": [
    "# Defining a function to collect posts(from the top section)\n",
    "def collect_posts(subreddit_name, limit=1000):\n",
    "    subreddit = reddit.subreddit(subreddit_name)\n",
    "    posts = []\n",
    "    \n",
    "    # Collecting posts from the subreddit (using 'top' instead of 'hot')\n",
    "    for post in subreddit.top(limit=limit):\n",
    "        post_data = {\n",
    "            'title': post.title,\n",
    "            'body': post.selftext,\n",
    "            'subreddit': subreddit_name,\n",
    "            'post_id': post.id,\n",
    "        }\n",
    "        posts.append(post_data)\n",
    "    \n",
    "    return posts\n",
    "\n",
    "explainlikeim5_posts = collect_posts('explainlikeimfive', limit=1000)\n",
    "askscience_posts = collect_posts('askscience', limit=1000)\n",
    "\n",
    "\n",
    "# Combining the posts into a single list and display a sample\n",
    "all_posts = askscience_posts + explainlikeim5_posts\n",
    "print(f\"Collected {len(all_posts)} posts from both subreddits.\")"
   ]
  },
  {
   "cell_type": "code",
   "execution_count": 35,
   "id": "51440b7f-ffb3-43a3-80fa-ab0069fd2b15",
   "metadata": {},
   "outputs": [],
   "source": [
    "# Converting the list of posts to a DataFrame\n",
    "new_posts_df = pd.DataFrame(all_posts)"
   ]
  },
  {
   "cell_type": "code",
   "execution_count": 39,
   "id": "68b098ca-74ff-432e-baf2-b3f8937277d0",
   "metadata": {},
   "outputs": [
    {
     "name": "stdout",
     "output_type": "stream",
     "text": [
      "Total number of unique posts: 3292\n",
      "                                               title  \\\n",
      "0               AskScience Panel of Scientists XXVII   \n",
      "1  Meta: What's going on with funding for science...   \n",
      "2  Why are saturns rings seen as “flat” and not d...   \n",
      "3  Does the microbiome of the human skin (eyelash...   \n",
      "4  Flu shots are a product of eggs.  Is the curre...   \n",
      "\n",
      "                                                body   subreddit  post_id  \n",
      "0  **Please read this entire post carefully and f...  askscience  1i4r3rj  \n",
      "1  Funding and support for science in the United ...  askscience  1it5o2t  \n",
      "2                                                  B  askscience  1jbh4au  \n",
      "3  There are a lot of things that live on the hum...  askscience  1janev9  \n",
      "4  Obviously the egg shortage is currently a prob...  askscience  1jam6a8  \n"
     ]
    }
   ],
   "source": [
    "# Combining the original dataframe with the new posts and removing the duplicates\n",
    "all_posts_df = pd.concat([all_posts_df, new_posts_df], ignore_index=True).drop_duplicates(subset=['post_id'])\n",
    "\n",
    "# Checking the final dataframe...\n",
    "print(f\"Total number of unique posts: {len(all_posts_df)}\")\n",
    "print(all_posts_df.head())"
   ]
  },
  {
   "cell_type": "code",
   "execution_count": 47,
   "id": "440e52a9-06f7-4314-b233-a7e1babcf559",
   "metadata": {},
   "outputs": [
    {
     "data": {
      "text/plain": [
       "subreddit\n",
       "askscience           1378\n",
       "explainlikeimfive    1314\n",
       "Name: count, dtype: int64"
      ]
     },
     "execution_count": 47,
     "metadata": {},
     "output_type": "execute_result"
    }
   ],
   "source": [
    "all_posts_df['subreddit'].value_counts()"
   ]
  },
  {
   "cell_type": "code",
   "execution_count": 59,
   "id": "b17969d9-08e8-4d29-ba1b-20122cc21e7e",
   "metadata": {},
   "outputs": [
    {
     "data": {
      "text/html": [
       "<div>\n",
       "<style scoped>\n",
       "    .dataframe tbody tr th:only-of-type {\n",
       "        vertical-align: middle;\n",
       "    }\n",
       "\n",
       "    .dataframe tbody tr th {\n",
       "        vertical-align: top;\n",
       "    }\n",
       "\n",
       "    .dataframe thead th {\n",
       "        text-align: right;\n",
       "    }\n",
       "</style>\n",
       "<table border=\"1\" class=\"dataframe\">\n",
       "  <thead>\n",
       "    <tr style=\"text-align: right;\">\n",
       "      <th></th>\n",
       "      <th>title</th>\n",
       "      <th>body</th>\n",
       "      <th>subreddit</th>\n",
       "      <th>post_id</th>\n",
       "    </tr>\n",
       "  </thead>\n",
       "  <tbody>\n",
       "    <tr>\n",
       "      <th>0</th>\n",
       "      <td>Why do planets keep rotating and revolving around the sun?</td>\n",
       "      <td>I mean why are they not being pulled in by Sun's gravity or where are they getting the energy to keep rotating? And what will happen if they suddenly stop revolving?</td>\n",
       "      <td>askscience</td>\n",
       "      <td>1fe2aa1</td>\n",
       "    </tr>\n",
       "    <tr>\n",
       "      <th>1</th>\n",
       "      <td>How do lasers intially start?</td>\n",
       "      <td>For an atom/molecule in an excited state to release a photon, a photon of a similar wavelength must pass nearby. My question is where does the original photon come from to start the chain reaction?</td>\n",
       "      <td>askscience</td>\n",
       "      <td>1fd7lpa</td>\n",
       "    </tr>\n",
       "    <tr>\n",
       "      <th>2</th>\n",
       "      <td>When the Andromeda Galaxy \"collides\" with the Milky Way, I understand it's highly unlikely that any celestial bodies will actually collide, but therefore I don't understand why a \"new\" combined galaxy will be formed. Why won't Andromeda just keep moving through us and carry on its way?</td>\n",
       "      <td></td>\n",
       "      <td>askscience</td>\n",
       "      <td>1fct4nn</td>\n",
       "    </tr>\n",
       "    <tr>\n",
       "      <th>3</th>\n",
       "      <td>AskScience AMA Series: We are students and faculty of the Molecular Engineering &amp; Sciences Institute at the University of Washington. The field of Molecular Engineering is growing quickly. As one of only two US schools offering this program, we wish to spread awareness about our exciting field! AUA!</td>\n",
       "      <td>We are graduate students and faculty from the University of Washington Molecular Engineering and Science (MolES) PhD program. Molecular Engineering is a new field; we were one of the first Molecular Engineering graduate programs to appear in the world, and one of only two in the United States. Though our program only began in 2014, we have had many discoveries to share!\\n\\nMolecular engineering itself is a broad and evolving field that seeks to understand how molecular properties and interactions can be manipulated to design and assemble better materials, systems, and processes for specific functions. Any time you attempt to change the behavior of something by precisely altering it on a molecular level - given knowledge of how the molecules in that \"something\" interact with one another - you're engaging in a type of molecular engineering. The applications are limited only by your imagination! \\n\\nMolecular engineering is recognized by the National Academy of Engineering as one of the areas of education and research most critical to ensuring the future economic, environmental and medical health of the U.S. We would like to spread awareness about its applications, as well as the exciting opportunities that come with it. \\n\\nAs a highly interdisciplinary field spanning across the science and engineering space, students of Molecular Engineering have produced numerous impactful scientific discoveries. We specifically believe that Molecular Engineering could be an exciting avenue for up-and-coming young scientists, and thus we would like to broaden the general awareness of our discipline!\\n\\nHere to answer your questions are:\\n\\n+ **Suzie Pun** - ( /u/MolESAMA-SuziePun ) - Professor of Bioengineering, Director of MolES Institute \\n  + Research area: drug delivery, biomaterials, aptamers\\n+ **Cole DeForest** - ( /u/profcole ) - Associate Professor of Bioengineering, MolES Director of Education\\n  + Research area: biomaterials, tissue engineering, drug delivery, protein engineering\\n+ **Andre Berndt** - ( /u/Mystic_Scientist ) - Assistant Professor of Bioengineering\\n  + Research area: protein engineering, optogenetics, neuroscience\\n+ **Jeff Nivala** - ( /u/technomolecularprof ) - Assistant Professor of Computer Science and Engineering\\n  + Research area: nanopore, synbio, molecular data storage and computing\\n+ **David Bergsman** - ( /u/ProfBergsman ) - Assistant Professor of Chemical Engineering\\n  + Research area: thin films, atomic layer deposition, nanomaterials, membrane separations, catalysis, interfacial engineering\\n+ **Doug Ballard** ( /u/UW-MolES ) - MolES Graduate Program Advisor\\n+ **Justin Daho Lee** ( /u/MolES-Justin ) - Sixth Year PhD Student\\n  + Research area: protein engineering, optogenetics, neuroscience, stem cells\\n+ **Evan Pepper** ( /u/evanpepper ) - Fifth Year PhD Student\\n  + Research area: microbiology, tuberculosis, antibiotic resistance\\n+ **Ben Nguyen** ( /u/nguyencd296 ) - Fifth Year PhD Student\\n  + Research area: polymer chemistry, drug delivery\\n+ **Gaby Balistreri** ( /u/GB_2022 ) - Fourth Year PhD Student\\n  + Research area: drug delivery, nanomedicine, nanoparticles, green engineering\\n+ **Ariel Lin** ( /u/MolEgradstudent ) - Third Year PhD Student\\n  + Research area: open microfluidics, tissue engineering, bioanalytical chemistry, cell co-culture</td>\n",
       "      <td>askscience</td>\n",
       "      <td>1fcmmw7</td>\n",
       "    </tr>\n",
       "    <tr>\n",
       "      <th>4</th>\n",
       "      <td>Does a vacuum have entropy? If so, is it high or low?</td>\n",
       "      <td>I'm not sure if this is the right way to ask the question. I've learnt that a vacuum isn't really empty or still, but quantum waves constantly fluctuate and virtual particles pop in and out of existence. With so much hidden activity going on that seems like high entropy. But there aren't any real particles, which seems like it would be the lowest possible entropy. So now I'm wondering if it makes sense to apply entropy to a vacuum at all?</td>\n",
       "      <td>askscience</td>\n",
       "      <td>1fcpcuy</td>\n",
       "    </tr>\n",
       "  </tbody>\n",
       "</table>\n",
       "</div>"
      ],
      "text/plain": [
       "                                                                                                                                                                                                                                                                                                          title  \\\n",
       "0                                                                                                                                                                                                                                                    Why do planets keep rotating and revolving around the sun?   \n",
       "1                                                                                                                                                                                                                                                                                 How do lasers intially start?   \n",
       "2                When the Andromeda Galaxy \"collides\" with the Milky Way, I understand it's highly unlikely that any celestial bodies will actually collide, but therefore I don't understand why a \"new\" combined galaxy will be formed. Why won't Andromeda just keep moving through us and carry on its way?   \n",
       "3  AskScience AMA Series: We are students and faculty of the Molecular Engineering & Sciences Institute at the University of Washington. The field of Molecular Engineering is growing quickly. As one of only two US schools offering this program, we wish to spread awareness about our exciting field! AUA!   \n",
       "4                                                                                                                                                                                                                                                         Does a vacuum have entropy? If so, is it high or low?   \n",
       "\n",
       "                                                                                                                                                                                                                                                                                                                                                                                                                                                                                                                                                                                                                                                                                                                                                                                                                                                                                                                                                                                                                                                                                                                                                                                                                                                                                                                                                                                                                                                                                                                                                                                                                                                                                                                                                                                                                                                                                                                                                                                                                                                                                                                                                                                                                                                                                                                                                                                                                                                                                                                                                                                                                                                                                                                                                                                                                                                                                                                                                                                                                                                                                                                                                                                                                                                                                                                                                                                                                                                                         body  \\\n",
       "0                                                                                                                                                                                                                                                                                                                                                                                                                                                                                                                                                                                                                                                                                                                                                                                                                                                                                                                                                                                                                                                                                                                                                                                                                                                                                                                                                                                                                                                                                                                                                                                                                                                                                                                                                                                                                                                                                                                                                                                                                                                                                                                                                                                                                                                                                                                                                                                                                                                                                                                                                                                                                                                                                                                                                                                                                                                                                                                                                                                                                                                                                                                                                                                                                                                                                                       I mean why are they not being pulled in by Sun's gravity or where are they getting the energy to keep rotating? And what will happen if they suddenly stop revolving?   \n",
       "1                                                                                                                                                                                                                                                                                                                                                                                                                                                                                                                                                                                                                                                                                                                                                                                                                                                                                                                                                                                                                                                                                                                                                                                                                                                                                                                                                                                                                                                                                                                                                                                                                                                                                                                                                                                                                                                                                                                                                                                                                                                                                                                                                                                                                                                                                                                                                                                                                                                                                                                                                                                                                                                                                                                                                                                                                                                                                                                                                                                                                                                                                                                                                                                                                                                                       For an atom/molecule in an excited state to release a photon, a photon of a similar wavelength must pass nearby. My question is where does the original photon come from to start the chain reaction?   \n",
       "2                                                                                                                                                                                                                                                                                                                                                                                                                                                                                                                                                                                                                                                                                                                                                                                                                                                                                                                                                                                                                                                                                                                                                                                                                                                                                                                                                                                                                                                                                                                                                                                                                                                                                                                                                                                                                                                                                                                                                                                                                                                                                                                                                                                                                                                                                                                                                                                                                                                                                                                                                                                                                                                                                                                                                                                                                                                                                                                                                                                                                                                                                                                                                                                                                                                                                                                                                                                                                                                                               \n",
       "3  We are graduate students and faculty from the University of Washington Molecular Engineering and Science (MolES) PhD program. Molecular Engineering is a new field; we were one of the first Molecular Engineering graduate programs to appear in the world, and one of only two in the United States. Though our program only began in 2014, we have had many discoveries to share!\\n\\nMolecular engineering itself is a broad and evolving field that seeks to understand how molecular properties and interactions can be manipulated to design and assemble better materials, systems, and processes for specific functions. Any time you attempt to change the behavior of something by precisely altering it on a molecular level - given knowledge of how the molecules in that \"something\" interact with one another - you're engaging in a type of molecular engineering. The applications are limited only by your imagination! \\n\\nMolecular engineering is recognized by the National Academy of Engineering as one of the areas of education and research most critical to ensuring the future economic, environmental and medical health of the U.S. We would like to spread awareness about its applications, as well as the exciting opportunities that come with it. \\n\\nAs a highly interdisciplinary field spanning across the science and engineering space, students of Molecular Engineering have produced numerous impactful scientific discoveries. We specifically believe that Molecular Engineering could be an exciting avenue for up-and-coming young scientists, and thus we would like to broaden the general awareness of our discipline!\\n\\nHere to answer your questions are:\\n\\n+ **Suzie Pun** - ( /u/MolESAMA-SuziePun ) - Professor of Bioengineering, Director of MolES Institute \\n  + Research area: drug delivery, biomaterials, aptamers\\n+ **Cole DeForest** - ( /u/profcole ) - Associate Professor of Bioengineering, MolES Director of Education\\n  + Research area: biomaterials, tissue engineering, drug delivery, protein engineering\\n+ **Andre Berndt** - ( /u/Mystic_Scientist ) - Assistant Professor of Bioengineering\\n  + Research area: protein engineering, optogenetics, neuroscience\\n+ **Jeff Nivala** - ( /u/technomolecularprof ) - Assistant Professor of Computer Science and Engineering\\n  + Research area: nanopore, synbio, molecular data storage and computing\\n+ **David Bergsman** - ( /u/ProfBergsman ) - Assistant Professor of Chemical Engineering\\n  + Research area: thin films, atomic layer deposition, nanomaterials, membrane separations, catalysis, interfacial engineering\\n+ **Doug Ballard** ( /u/UW-MolES ) - MolES Graduate Program Advisor\\n+ **Justin Daho Lee** ( /u/MolES-Justin ) - Sixth Year PhD Student\\n  + Research area: protein engineering, optogenetics, neuroscience, stem cells\\n+ **Evan Pepper** ( /u/evanpepper ) - Fifth Year PhD Student\\n  + Research area: microbiology, tuberculosis, antibiotic resistance\\n+ **Ben Nguyen** ( /u/nguyencd296 ) - Fifth Year PhD Student\\n  + Research area: polymer chemistry, drug delivery\\n+ **Gaby Balistreri** ( /u/GB_2022 ) - Fourth Year PhD Student\\n  + Research area: drug delivery, nanomedicine, nanoparticles, green engineering\\n+ **Ariel Lin** ( /u/MolEgradstudent ) - Third Year PhD Student\\n  + Research area: open microfluidics, tissue engineering, bioanalytical chemistry, cell co-culture   \n",
       "4                                                                                                                                                                                                                                                                                                                                                                                                                                                                                                                                                                                                                                                                                                                                                                                                                                                                                                                                                                                                                                                                                                                                                                                                                                                                                                                                                                                                                                                                                                                                                                                                                                                                                                                                                                                                                                                                                                                                                                                                                                                                                                                                                                                                                                                                                                                                                                                                                                                                                                                                                                                                                                                                                                                                                                                                                                                                                                                                                                                                                  I'm not sure if this is the right way to ask the question. I've learnt that a vacuum isn't really empty or still, but quantum waves constantly fluctuate and virtual particles pop in and out of existence. With so much hidden activity going on that seems like high entropy. But there aren't any real particles, which seems like it would be the lowest possible entropy. So now I'm wondering if it makes sense to apply entropy to a vacuum at all?   \n",
       "\n",
       "    subreddit  post_id  \n",
       "0  askscience  1fe2aa1  \n",
       "1  askscience  1fd7lpa  \n",
       "2  askscience  1fct4nn  \n",
       "3  askscience  1fcmmw7  \n",
       "4  askscience  1fcpcuy  "
      ]
     },
     "execution_count": 59,
     "metadata": {},
     "output_type": "execute_result"
    }
   ],
   "source": [
    "all_posts_df.head()"
   ]
  },
  {
   "cell_type": "code",
   "execution_count": 57,
   "id": "e03762b4-f99d-41e6-b24c-d2f5c9945126",
   "metadata": {},
   "outputs": [
    {
     "name": "stdout",
     "output_type": "stream",
     "text": [
      "                                                                                                                                                                                                                                                                                                          title  \\\n",
      "0                                                                                                                                                                                                                                                    Why do planets keep rotating and revolving around the sun?   \n",
      "1                                                                                                                                                                                                                                                                                 How do lasers intially start?   \n",
      "2                When the Andromeda Galaxy \"collides\" with the Milky Way, I understand it's highly unlikely that any celestial bodies will actually collide, but therefore I don't understand why a \"new\" combined galaxy will be formed. Why won't Andromeda just keep moving through us and carry on its way?   \n",
      "3  AskScience AMA Series: We are students and faculty of the Molecular Engineering & Sciences Institute at the University of Washington. The field of Molecular Engineering is growing quickly. As one of only two US schools offering this program, we wish to spread awareness about our exciting field! AUA!   \n",
      "4                                                                                                                                                                                                                                                         Does a vacuum have entropy? If so, is it high or low?   \n",
      "\n",
      "                                                                                                                                                                                                                                                                                                                                                                                                                                                                                                                                                                                                                                                                                                                                                                                                                                                                                                                                                                                                                                                                                                                                                                                                                                                                                                                                                                                                                                                                                                                                                                                                                                                                                                                                                                                                                                                                                                                                                                                                                                                                                                                                                                                                                                                                                                                                                                                                                                                                                                                                                                                                                                                                                                                                                                                                                                                                                                                                                                                                                                                                                                                                                                                                                                                                                                                                                                                                                                                                         body  \\\n",
      "0                                                                                                                                                                                                                                                                                                                                                                                                                                                                                                                                                                                                                                                                                                                                                                                                                                                                                                                                                                                                                                                                                                                                                                                                                                                                                                                                                                                                                                                                                                                                                                                                                                                                                                                                                                                                                                                                                                                                                                                                                                                                                                                                                                                                                                                                                                                                                                                                                                                                                                                                                                                                                                                                                                                                                                                                                                                                                                                                                                                                                                                                                                                                                                                                                                                                                                       I mean why are they not being pulled in by Sun's gravity or where are they getting the energy to keep rotating? And what will happen if they suddenly stop revolving?   \n",
      "1                                                                                                                                                                                                                                                                                                                                                                                                                                                                                                                                                                                                                                                                                                                                                                                                                                                                                                                                                                                                                                                                                                                                                                                                                                                                                                                                                                                                                                                                                                                                                                                                                                                                                                                                                                                                                                                                                                                                                                                                                                                                                                                                                                                                                                                                                                                                                                                                                                                                                                                                                                                                                                                                                                                                                                                                                                                                                                                                                                                                                                                                                                                                                                                                                                                                       For an atom/molecule in an excited state to release a photon, a photon of a similar wavelength must pass nearby. My question is where does the original photon come from to start the chain reaction?   \n",
      "2                                                                                                                                                                                                                                                                                                                                                                                                                                                                                                                                                                                                                                                                                                                                                                                                                                                                                                                                                                                                                                                                                                                                                                                                                                                                                                                                                                                                                                                                                                                                                                                                                                                                                                                                                                                                                                                                                                                                                                                                                                                                                                                                                                                                                                                                                                                                                                                                                                                                                                                                                                                                                                                                                                                                                                                                                                                                                                                                                                                                                                                                                                                                                                                                                                                                                                                                                                                                                                                                               \n",
      "3  We are graduate students and faculty from the University of Washington Molecular Engineering and Science (MolES) PhD program. Molecular Engineering is a new field; we were one of the first Molecular Engineering graduate programs to appear in the world, and one of only two in the United States. Though our program only began in 2014, we have had many discoveries to share!\\n\\nMolecular engineering itself is a broad and evolving field that seeks to understand how molecular properties and interactions can be manipulated to design and assemble better materials, systems, and processes for specific functions. Any time you attempt to change the behavior of something by precisely altering it on a molecular level - given knowledge of how the molecules in that \"something\" interact with one another - you're engaging in a type of molecular engineering. The applications are limited only by your imagination! \\n\\nMolecular engineering is recognized by the National Academy of Engineering as one of the areas of education and research most critical to ensuring the future economic, environmental and medical health of the U.S. We would like to spread awareness about its applications, as well as the exciting opportunities that come with it. \\n\\nAs a highly interdisciplinary field spanning across the science and engineering space, students of Molecular Engineering have produced numerous impactful scientific discoveries. We specifically believe that Molecular Engineering could be an exciting avenue for up-and-coming young scientists, and thus we would like to broaden the general awareness of our discipline!\\n\\nHere to answer your questions are:\\n\\n+ **Suzie Pun** - ( /u/MolESAMA-SuziePun ) - Professor of Bioengineering, Director of MolES Institute \\n  + Research area: drug delivery, biomaterials, aptamers\\n+ **Cole DeForest** - ( /u/profcole ) - Associate Professor of Bioengineering, MolES Director of Education\\n  + Research area: biomaterials, tissue engineering, drug delivery, protein engineering\\n+ **Andre Berndt** - ( /u/Mystic_Scientist ) - Assistant Professor of Bioengineering\\n  + Research area: protein engineering, optogenetics, neuroscience\\n+ **Jeff Nivala** - ( /u/technomolecularprof ) - Assistant Professor of Computer Science and Engineering\\n  + Research area: nanopore, synbio, molecular data storage and computing\\n+ **David Bergsman** - ( /u/ProfBergsman ) - Assistant Professor of Chemical Engineering\\n  + Research area: thin films, atomic layer deposition, nanomaterials, membrane separations, catalysis, interfacial engineering\\n+ **Doug Ballard** ( /u/UW-MolES ) - MolES Graduate Program Advisor\\n+ **Justin Daho Lee** ( /u/MolES-Justin ) - Sixth Year PhD Student\\n  + Research area: protein engineering, optogenetics, neuroscience, stem cells\\n+ **Evan Pepper** ( /u/evanpepper ) - Fifth Year PhD Student\\n  + Research area: microbiology, tuberculosis, antibiotic resistance\\n+ **Ben Nguyen** ( /u/nguyencd296 ) - Fifth Year PhD Student\\n  + Research area: polymer chemistry, drug delivery\\n+ **Gaby Balistreri** ( /u/GB_2022 ) - Fourth Year PhD Student\\n  + Research area: drug delivery, nanomedicine, nanoparticles, green engineering\\n+ **Ariel Lin** ( /u/MolEgradstudent ) - Third Year PhD Student\\n  + Research area: open microfluidics, tissue engineering, bioanalytical chemistry, cell co-culture   \n",
      "4                                                                                                                                                                                                                                                                                                                                                                                                                                                                                                                                                                                                                                                                                                                                                                                                                                                                                                                                                                                                                                                                                                                                                                                                                                                                                                                                                                                                                                                                                                                                                                                                                                                                                                                                                                                                                                                                                                                                                                                                                                                                                                                                                                                                                                                                                                                                                                                                                                                                                                                                                                                                                                                                                                                                                                                                                                                                                                                                                                                                                  I'm not sure if this is the right way to ask the question. I've learnt that a vacuum isn't really empty or still, but quantum waves constantly fluctuate and virtual particles pop in and out of existence. With so much hidden activity going on that seems like high entropy. But there aren't any real particles, which seems like it would be the lowest possible entropy. So now I'm wondering if it makes sense to apply entropy to a vacuum at all?   \n",
      "\n",
      "    subreddit  post_id  \n",
      "0  askscience  1fe2aa1  \n",
      "1  askscience  1fd7lpa  \n",
      "2  askscience  1fct4nn  \n",
      "3  askscience  1fcmmw7  \n",
      "4  askscience  1fcpcuy  \n"
     ]
    }
   ],
   "source": [
    "# Reset the index after removing posts\n",
    "all_posts_df.reset_index(drop=True, inplace=True)\n",
    "\n",
    "# Check the dataframe\n",
    "print(all_posts_df.head())"
   ]
  },
  {
   "cell_type": "code",
   "execution_count": 68,
   "id": "e085f3a8-4fbc-4324-bfc3-8206e29cd135",
   "metadata": {},
   "outputs": [],
   "source": [
    "# Saving the combined DataFrame\n",
    "#all_posts_df.to_csv('data/final_reddit_posts.csv', index=False)"
   ]
  },
  {
   "cell_type": "markdown",
   "id": "3596133a-ed74-4add-940d-aed73a3752ea",
   "metadata": {},
   "source": [
    "Great, now that we have our data, in the next notebook we will be visualizing some preliminary insights."
   ]
  }
 ],
 "metadata": {
  "kernelspec": {
   "display_name": "Python [conda env:base] *",
   "language": "python",
   "name": "conda-base-py"
  },
  "language_info": {
   "codemirror_mode": {
    "name": "ipython",
    "version": 3
   },
   "file_extension": ".py",
   "mimetype": "text/x-python",
   "name": "python",
   "nbconvert_exporter": "python",
   "pygments_lexer": "ipython3",
   "version": "3.12.7"
  }
 },
 "nbformat": 4,
 "nbformat_minor": 5
}
